{
 "cells": [
  {
   "cell_type": "code",
   "execution_count": 1,
   "id": "5712f28b-d494-4572-b1ac-1a4cb8fbe8db",
   "metadata": {},
   "outputs": [],
   "source": [
    "import pandas as pd  #importowanie pandas"
   ]
  },
  {
   "cell_type": "code",
   "execution_count": 2,
   "id": "e2522f72-5cb2-490d-a9da-77b96b44c94f",
   "metadata": {},
   "outputs": [
    {
     "data": {
      "text/html": [
       "<div>\n",
       "<style scoped>\n",
       "    .dataframe tbody tr th:only-of-type {\n",
       "        vertical-align: middle;\n",
       "    }\n",
       "\n",
       "    .dataframe tbody tr th {\n",
       "        vertical-align: top;\n",
       "    }\n",
       "\n",
       "    .dataframe thead th {\n",
       "        text-align: right;\n",
       "    }\n",
       "</style>\n",
       "<table border=\"1\" class=\"dataframe\">\n",
       "  <thead>\n",
       "    <tr style=\"text-align: right;\">\n",
       "      <th></th>\n",
       "      <th>Placówka SG</th>\n",
       "      <th>Przejście</th>\n",
       "      <th>Rodzaj przejścia</th>\n",
       "      <th>Odcinek</th>\n",
       "      <th>Oddział SG</th>\n",
       "      <th>Data</th>\n",
       "      <th>Kto</th>\n",
       "      <th>Kierunek</th>\n",
       "      <th>Paszportowy</th>\n",
       "      <th>Pozasystemowa</th>\n",
       "      <th>...</th>\n",
       "      <th>Załogi statków pasażerskich</th>\n",
       "      <th>Załogi statków handlowych</th>\n",
       "      <th>Załogi statków rybackich</th>\n",
       "      <th>Załogi kutrów</th>\n",
       "      <th>Załogi taboru rzecznego</th>\n",
       "      <th>Załogi jednostek sportowo-żeglarskich</th>\n",
       "      <th>Załogi samolotów</th>\n",
       "      <th>Załogi śmigłowców</th>\n",
       "      <th>os. w INNYCH</th>\n",
       "      <th>Razem</th>\n",
       "    </tr>\n",
       "  </thead>\n",
       "  <tbody>\n",
       "    <tr>\n",
       "      <th>0</th>\n",
       "      <td>Braniewo</td>\n",
       "      <td>Braniewo – Mamonowo</td>\n",
       "      <td>kolejowe</td>\n",
       "      <td>z Federacją Rosyjską</td>\n",
       "      <td>Warmińsko-Mazurski</td>\n",
       "      <td>2018-01-01</td>\n",
       "      <td>C</td>\n",
       "      <td>przyjazd</td>\n",
       "      <td>0</td>\n",
       "      <td>0</td>\n",
       "      <td>...</td>\n",
       "      <td>0</td>\n",
       "      <td>0</td>\n",
       "      <td>0</td>\n",
       "      <td>0</td>\n",
       "      <td>0</td>\n",
       "      <td>0</td>\n",
       "      <td>0</td>\n",
       "      <td>0</td>\n",
       "      <td>0</td>\n",
       "      <td>9</td>\n",
       "    </tr>\n",
       "    <tr>\n",
       "      <th>1</th>\n",
       "      <td>Braniewo</td>\n",
       "      <td>Braniewo – Mamonowo</td>\n",
       "      <td>kolejowe</td>\n",
       "      <td>z Federacją Rosyjską</td>\n",
       "      <td>Warmińsko-Mazurski</td>\n",
       "      <td>2018-01-01</td>\n",
       "      <td>C</td>\n",
       "      <td>wyjazd</td>\n",
       "      <td>0</td>\n",
       "      <td>0</td>\n",
       "      <td>...</td>\n",
       "      <td>0</td>\n",
       "      <td>0</td>\n",
       "      <td>0</td>\n",
       "      <td>0</td>\n",
       "      <td>0</td>\n",
       "      <td>0</td>\n",
       "      <td>0</td>\n",
       "      <td>0</td>\n",
       "      <td>0</td>\n",
       "      <td>8</td>\n",
       "    </tr>\n",
       "    <tr>\n",
       "      <th>2</th>\n",
       "      <td>Braniewo</td>\n",
       "      <td>Gronowo – Mamonowo</td>\n",
       "      <td>drogowe</td>\n",
       "      <td>z Federacją Rosyjską</td>\n",
       "      <td>Warmińsko-Mazurski</td>\n",
       "      <td>2018-01-01</td>\n",
       "      <td>C</td>\n",
       "      <td>przyjazd</td>\n",
       "      <td>1599</td>\n",
       "      <td>0</td>\n",
       "      <td>...</td>\n",
       "      <td>0</td>\n",
       "      <td>0</td>\n",
       "      <td>0</td>\n",
       "      <td>0</td>\n",
       "      <td>0</td>\n",
       "      <td>0</td>\n",
       "      <td>0</td>\n",
       "      <td>0</td>\n",
       "      <td>0</td>\n",
       "      <td>1599</td>\n",
       "    </tr>\n",
       "    <tr>\n",
       "      <th>3</th>\n",
       "      <td>Braniewo</td>\n",
       "      <td>Gronowo – Mamonowo</td>\n",
       "      <td>drogowe</td>\n",
       "      <td>z Federacją Rosyjską</td>\n",
       "      <td>Warmińsko-Mazurski</td>\n",
       "      <td>2018-01-01</td>\n",
       "      <td>C</td>\n",
       "      <td>wyjazd</td>\n",
       "      <td>81</td>\n",
       "      <td>0</td>\n",
       "      <td>...</td>\n",
       "      <td>0</td>\n",
       "      <td>0</td>\n",
       "      <td>0</td>\n",
       "      <td>0</td>\n",
       "      <td>0</td>\n",
       "      <td>0</td>\n",
       "      <td>0</td>\n",
       "      <td>0</td>\n",
       "      <td>0</td>\n",
       "      <td>81</td>\n",
       "    </tr>\n",
       "    <tr>\n",
       "      <th>4</th>\n",
       "      <td>Braniewo</td>\n",
       "      <td>Gronowo – Mamonowo</td>\n",
       "      <td>drogowe</td>\n",
       "      <td>z Federacją Rosyjską</td>\n",
       "      <td>Warmińsko-Mazurski</td>\n",
       "      <td>2018-01-01</td>\n",
       "      <td>RP</td>\n",
       "      <td>przyjazd</td>\n",
       "      <td>65</td>\n",
       "      <td>0</td>\n",
       "      <td>...</td>\n",
       "      <td>0</td>\n",
       "      <td>0</td>\n",
       "      <td>0</td>\n",
       "      <td>0</td>\n",
       "      <td>0</td>\n",
       "      <td>0</td>\n",
       "      <td>0</td>\n",
       "      <td>0</td>\n",
       "      <td>0</td>\n",
       "      <td>65</td>\n",
       "    </tr>\n",
       "    <tr>\n",
       "      <th>...</th>\n",
       "      <td>...</td>\n",
       "      <td>...</td>\n",
       "      <td>...</td>\n",
       "      <td>...</td>\n",
       "      <td>...</td>\n",
       "      <td>...</td>\n",
       "      <td>...</td>\n",
       "      <td>...</td>\n",
       "      <td>...</td>\n",
       "      <td>...</td>\n",
       "      <td>...</td>\n",
       "      <td>...</td>\n",
       "      <td>...</td>\n",
       "      <td>...</td>\n",
       "      <td>...</td>\n",
       "      <td>...</td>\n",
       "      <td>...</td>\n",
       "      <td>...</td>\n",
       "      <td>...</td>\n",
       "      <td>...</td>\n",
       "      <td>...</td>\n",
       "    </tr>\n",
       "    <tr>\n",
       "      <th>66388</th>\n",
       "      <td>Łódź</td>\n",
       "      <td>Łódź-Lublinek</td>\n",
       "      <td>lotnicze</td>\n",
       "      <td>droga lotnicza</td>\n",
       "      <td>Nadwiślański</td>\n",
       "      <td>2018-12-31</td>\n",
       "      <td>RP</td>\n",
       "      <td>wyjazd</td>\n",
       "      <td>326</td>\n",
       "      <td>0</td>\n",
       "      <td>...</td>\n",
       "      <td>0</td>\n",
       "      <td>0</td>\n",
       "      <td>0</td>\n",
       "      <td>0</td>\n",
       "      <td>0</td>\n",
       "      <td>0</td>\n",
       "      <td>0</td>\n",
       "      <td>0</td>\n",
       "      <td>0</td>\n",
       "      <td>326</td>\n",
       "    </tr>\n",
       "    <tr>\n",
       "      <th>66389</th>\n",
       "      <td>Warszawa-Modlin</td>\n",
       "      <td>Warszawa/Modlin</td>\n",
       "      <td>lotnicze</td>\n",
       "      <td>droga lotnicza</td>\n",
       "      <td>Nadwiślański</td>\n",
       "      <td>2018-12-31</td>\n",
       "      <td>C</td>\n",
       "      <td>przyjazd</td>\n",
       "      <td>568</td>\n",
       "      <td>0</td>\n",
       "      <td>...</td>\n",
       "      <td>0</td>\n",
       "      <td>0</td>\n",
       "      <td>0</td>\n",
       "      <td>0</td>\n",
       "      <td>0</td>\n",
       "      <td>0</td>\n",
       "      <td>2</td>\n",
       "      <td>0</td>\n",
       "      <td>0</td>\n",
       "      <td>570</td>\n",
       "    </tr>\n",
       "    <tr>\n",
       "      <th>66390</th>\n",
       "      <td>Warszawa-Modlin</td>\n",
       "      <td>Warszawa/Modlin</td>\n",
       "      <td>lotnicze</td>\n",
       "      <td>droga lotnicza</td>\n",
       "      <td>Nadwiślański</td>\n",
       "      <td>2018-12-31</td>\n",
       "      <td>C</td>\n",
       "      <td>wyjazd</td>\n",
       "      <td>480</td>\n",
       "      <td>0</td>\n",
       "      <td>...</td>\n",
       "      <td>0</td>\n",
       "      <td>0</td>\n",
       "      <td>0</td>\n",
       "      <td>0</td>\n",
       "      <td>0</td>\n",
       "      <td>0</td>\n",
       "      <td>0</td>\n",
       "      <td>0</td>\n",
       "      <td>0</td>\n",
       "      <td>480</td>\n",
       "    </tr>\n",
       "    <tr>\n",
       "      <th>66391</th>\n",
       "      <td>Warszawa-Modlin</td>\n",
       "      <td>Warszawa/Modlin</td>\n",
       "      <td>lotnicze</td>\n",
       "      <td>droga lotnicza</td>\n",
       "      <td>Nadwiślański</td>\n",
       "      <td>2018-12-31</td>\n",
       "      <td>RP</td>\n",
       "      <td>przyjazd</td>\n",
       "      <td>1125</td>\n",
       "      <td>0</td>\n",
       "      <td>...</td>\n",
       "      <td>0</td>\n",
       "      <td>0</td>\n",
       "      <td>0</td>\n",
       "      <td>0</td>\n",
       "      <td>0</td>\n",
       "      <td>0</td>\n",
       "      <td>26</td>\n",
       "      <td>0</td>\n",
       "      <td>0</td>\n",
       "      <td>1151</td>\n",
       "    </tr>\n",
       "    <tr>\n",
       "      <th>66392</th>\n",
       "      <td>Warszawa-Modlin</td>\n",
       "      <td>Warszawa/Modlin</td>\n",
       "      <td>lotnicze</td>\n",
       "      <td>droga lotnicza</td>\n",
       "      <td>Nadwiślański</td>\n",
       "      <td>2018-12-31</td>\n",
       "      <td>RP</td>\n",
       "      <td>wyjazd</td>\n",
       "      <td>1097</td>\n",
       "      <td>0</td>\n",
       "      <td>...</td>\n",
       "      <td>0</td>\n",
       "      <td>0</td>\n",
       "      <td>0</td>\n",
       "      <td>0</td>\n",
       "      <td>0</td>\n",
       "      <td>0</td>\n",
       "      <td>21</td>\n",
       "      <td>0</td>\n",
       "      <td>0</td>\n",
       "      <td>1118</td>\n",
       "    </tr>\n",
       "  </tbody>\n",
       "</table>\n",
       "<p>66393 rows × 24 columns</p>\n",
       "</div>"
      ],
      "text/plain": [
       "           Placówka SG            Przejście Rodzaj przejścia  \\\n",
       "0             Braniewo  Braniewo – Mamonowo         kolejowe   \n",
       "1             Braniewo  Braniewo – Mamonowo         kolejowe   \n",
       "2             Braniewo   Gronowo – Mamonowo          drogowe   \n",
       "3             Braniewo   Gronowo – Mamonowo          drogowe   \n",
       "4             Braniewo   Gronowo – Mamonowo          drogowe   \n",
       "...                ...                  ...              ...   \n",
       "66388             Łódź        Łódź-Lublinek         lotnicze   \n",
       "66389  Warszawa-Modlin      Warszawa/Modlin         lotnicze   \n",
       "66390  Warszawa-Modlin      Warszawa/Modlin         lotnicze   \n",
       "66391  Warszawa-Modlin      Warszawa/Modlin         lotnicze   \n",
       "66392  Warszawa-Modlin      Warszawa/Modlin         lotnicze   \n",
       "\n",
       "                    Odcinek          Oddział SG        Data Kto  Kierunek  \\\n",
       "0      z Federacją Rosyjską  Warmińsko-Mazurski  2018-01-01   C  przyjazd   \n",
       "1      z Federacją Rosyjską  Warmińsko-Mazurski  2018-01-01   C    wyjazd   \n",
       "2      z Federacją Rosyjską  Warmińsko-Mazurski  2018-01-01   C  przyjazd   \n",
       "3      z Federacją Rosyjską  Warmińsko-Mazurski  2018-01-01   C    wyjazd   \n",
       "4      z Federacją Rosyjską  Warmińsko-Mazurski  2018-01-01  RP  przyjazd   \n",
       "...                     ...                 ...         ...  ..       ...   \n",
       "66388        droga lotnicza        Nadwiślański  2018-12-31  RP    wyjazd   \n",
       "66389        droga lotnicza        Nadwiślański  2018-12-31   C  przyjazd   \n",
       "66390        droga lotnicza        Nadwiślański  2018-12-31   C    wyjazd   \n",
       "66391        droga lotnicza        Nadwiślański  2018-12-31  RP  przyjazd   \n",
       "66392        droga lotnicza        Nadwiślański  2018-12-31  RP    wyjazd   \n",
       "\n",
       "       Paszportowy  Pozasystemowa  ...  Załogi statków pasażerskich  \\\n",
       "0                0              0  ...                            0   \n",
       "1                0              0  ...                            0   \n",
       "2             1599              0  ...                            0   \n",
       "3               81              0  ...                            0   \n",
       "4               65              0  ...                            0   \n",
       "...            ...            ...  ...                          ...   \n",
       "66388          326              0  ...                            0   \n",
       "66389          568              0  ...                            0   \n",
       "66390          480              0  ...                            0   \n",
       "66391         1125              0  ...                            0   \n",
       "66392         1097              0  ...                            0   \n",
       "\n",
       "       Załogi statków handlowych  Załogi statków rybackich  Załogi kutrów  \\\n",
       "0                              0                         0              0   \n",
       "1                              0                         0              0   \n",
       "2                              0                         0              0   \n",
       "3                              0                         0              0   \n",
       "4                              0                         0              0   \n",
       "...                          ...                       ...            ...   \n",
       "66388                          0                         0              0   \n",
       "66389                          0                         0              0   \n",
       "66390                          0                         0              0   \n",
       "66391                          0                         0              0   \n",
       "66392                          0                         0              0   \n",
       "\n",
       "       Załogi taboru rzecznego  Załogi jednostek sportowo-żeglarskich  \\\n",
       "0                            0                                      0   \n",
       "1                            0                                      0   \n",
       "2                            0                                      0   \n",
       "3                            0                                      0   \n",
       "4                            0                                      0   \n",
       "...                        ...                                    ...   \n",
       "66388                        0                                      0   \n",
       "66389                        0                                      0   \n",
       "66390                        0                                      0   \n",
       "66391                        0                                      0   \n",
       "66392                        0                                      0   \n",
       "\n",
       "       Załogi samolotów  Załogi śmigłowców  os. w INNYCH  Razem  \n",
       "0                     0                  0             0      9  \n",
       "1                     0                  0             0      8  \n",
       "2                     0                  0             0   1599  \n",
       "3                     0                  0             0     81  \n",
       "4                     0                  0             0     65  \n",
       "...                 ...                ...           ...    ...  \n",
       "66388                 0                  0             0    326  \n",
       "66389                 2                  0             0    570  \n",
       "66390                 0                  0             0    480  \n",
       "66391                26                  0             0   1151  \n",
       "66392                21                  0             0   1118  \n",
       "\n",
       "[66393 rows x 24 columns]"
      ]
     },
     "execution_count": 2,
     "metadata": {},
     "output_type": "execute_result"
    }
   ],
   "source": [
    "pd.read_csv('data.csv')"
   ]
  },
  {
   "cell_type": "code",
   "execution_count": 3,
   "id": "21ed1121-0e18-4415-89b9-548d981c244d",
   "metadata": {},
   "outputs": [],
   "source": [
    "ruchu_graniczny = pd.read_csv('data.csv') #tworzenie zmienne (wczytywanie danych)"
   ]
  },
  {
   "cell_type": "code",
   "execution_count": 4,
   "id": "25d0cab6-3c6f-4bb2-b452-302b808eb1d2",
   "metadata": {},
   "outputs": [
    {
     "data": {
      "text/html": [
       "<div>\n",
       "<style scoped>\n",
       "    .dataframe tbody tr th:only-of-type {\n",
       "        vertical-align: middle;\n",
       "    }\n",
       "\n",
       "    .dataframe tbody tr th {\n",
       "        vertical-align: top;\n",
       "    }\n",
       "\n",
       "    .dataframe thead th {\n",
       "        text-align: right;\n",
       "    }\n",
       "</style>\n",
       "<table border=\"1\" class=\"dataframe\">\n",
       "  <thead>\n",
       "    <tr style=\"text-align: right;\">\n",
       "      <th></th>\n",
       "      <th>Placówka SG</th>\n",
       "      <th>Przejście</th>\n",
       "      <th>Rodzaj przejścia</th>\n",
       "      <th>Odcinek</th>\n",
       "      <th>Oddział SG</th>\n",
       "      <th>Data</th>\n",
       "      <th>Kto</th>\n",
       "      <th>Kierunek</th>\n",
       "      <th>Paszportowy</th>\n",
       "      <th>Pozasystemowa</th>\n",
       "      <th>...</th>\n",
       "      <th>Załogi statków pasażerskich</th>\n",
       "      <th>Załogi statków handlowych</th>\n",
       "      <th>Załogi statków rybackich</th>\n",
       "      <th>Załogi kutrów</th>\n",
       "      <th>Załogi taboru rzecznego</th>\n",
       "      <th>Załogi jednostek sportowo-żeglarskich</th>\n",
       "      <th>Załogi samolotów</th>\n",
       "      <th>Załogi śmigłowców</th>\n",
       "      <th>os. w INNYCH</th>\n",
       "      <th>Razem</th>\n",
       "    </tr>\n",
       "  </thead>\n",
       "  <tbody>\n",
       "    <tr>\n",
       "      <th>0</th>\n",
       "      <td>Braniewo</td>\n",
       "      <td>Braniewo – Mamonowo</td>\n",
       "      <td>kolejowe</td>\n",
       "      <td>z Federacją Rosyjską</td>\n",
       "      <td>Warmińsko-Mazurski</td>\n",
       "      <td>2018-01-01</td>\n",
       "      <td>C</td>\n",
       "      <td>przyjazd</td>\n",
       "      <td>0</td>\n",
       "      <td>0</td>\n",
       "      <td>...</td>\n",
       "      <td>0</td>\n",
       "      <td>0</td>\n",
       "      <td>0</td>\n",
       "      <td>0</td>\n",
       "      <td>0</td>\n",
       "      <td>0</td>\n",
       "      <td>0</td>\n",
       "      <td>0</td>\n",
       "      <td>0</td>\n",
       "      <td>9</td>\n",
       "    </tr>\n",
       "    <tr>\n",
       "      <th>1</th>\n",
       "      <td>Braniewo</td>\n",
       "      <td>Braniewo – Mamonowo</td>\n",
       "      <td>kolejowe</td>\n",
       "      <td>z Federacją Rosyjską</td>\n",
       "      <td>Warmińsko-Mazurski</td>\n",
       "      <td>2018-01-01</td>\n",
       "      <td>C</td>\n",
       "      <td>wyjazd</td>\n",
       "      <td>0</td>\n",
       "      <td>0</td>\n",
       "      <td>...</td>\n",
       "      <td>0</td>\n",
       "      <td>0</td>\n",
       "      <td>0</td>\n",
       "      <td>0</td>\n",
       "      <td>0</td>\n",
       "      <td>0</td>\n",
       "      <td>0</td>\n",
       "      <td>0</td>\n",
       "      <td>0</td>\n",
       "      <td>8</td>\n",
       "    </tr>\n",
       "    <tr>\n",
       "      <th>2</th>\n",
       "      <td>Braniewo</td>\n",
       "      <td>Gronowo – Mamonowo</td>\n",
       "      <td>drogowe</td>\n",
       "      <td>z Federacją Rosyjską</td>\n",
       "      <td>Warmińsko-Mazurski</td>\n",
       "      <td>2018-01-01</td>\n",
       "      <td>C</td>\n",
       "      <td>przyjazd</td>\n",
       "      <td>1599</td>\n",
       "      <td>0</td>\n",
       "      <td>...</td>\n",
       "      <td>0</td>\n",
       "      <td>0</td>\n",
       "      <td>0</td>\n",
       "      <td>0</td>\n",
       "      <td>0</td>\n",
       "      <td>0</td>\n",
       "      <td>0</td>\n",
       "      <td>0</td>\n",
       "      <td>0</td>\n",
       "      <td>1599</td>\n",
       "    </tr>\n",
       "    <tr>\n",
       "      <th>3</th>\n",
       "      <td>Braniewo</td>\n",
       "      <td>Gronowo – Mamonowo</td>\n",
       "      <td>drogowe</td>\n",
       "      <td>z Federacją Rosyjską</td>\n",
       "      <td>Warmińsko-Mazurski</td>\n",
       "      <td>2018-01-01</td>\n",
       "      <td>C</td>\n",
       "      <td>wyjazd</td>\n",
       "      <td>81</td>\n",
       "      <td>0</td>\n",
       "      <td>...</td>\n",
       "      <td>0</td>\n",
       "      <td>0</td>\n",
       "      <td>0</td>\n",
       "      <td>0</td>\n",
       "      <td>0</td>\n",
       "      <td>0</td>\n",
       "      <td>0</td>\n",
       "      <td>0</td>\n",
       "      <td>0</td>\n",
       "      <td>81</td>\n",
       "    </tr>\n",
       "  </tbody>\n",
       "</table>\n",
       "<p>4 rows × 24 columns</p>\n",
       "</div>"
      ],
      "text/plain": [
       "  Placówka SG            Przejście Rodzaj przejścia               Odcinek  \\\n",
       "0    Braniewo  Braniewo – Mamonowo         kolejowe  z Federacją Rosyjską   \n",
       "1    Braniewo  Braniewo – Mamonowo         kolejowe  z Federacją Rosyjską   \n",
       "2    Braniewo   Gronowo – Mamonowo          drogowe  z Federacją Rosyjską   \n",
       "3    Braniewo   Gronowo – Mamonowo          drogowe  z Federacją Rosyjską   \n",
       "\n",
       "           Oddział SG        Data Kto  Kierunek  Paszportowy  Pozasystemowa  \\\n",
       "0  Warmińsko-Mazurski  2018-01-01   C  przyjazd            0              0   \n",
       "1  Warmińsko-Mazurski  2018-01-01   C    wyjazd            0              0   \n",
       "2  Warmińsko-Mazurski  2018-01-01   C  przyjazd         1599              0   \n",
       "3  Warmińsko-Mazurski  2018-01-01   C    wyjazd           81              0   \n",
       "\n",
       "   ...  Załogi statków pasażerskich  Załogi statków handlowych  \\\n",
       "0  ...                            0                          0   \n",
       "1  ...                            0                          0   \n",
       "2  ...                            0                          0   \n",
       "3  ...                            0                          0   \n",
       "\n",
       "   Załogi statków rybackich  Załogi kutrów  Załogi taboru rzecznego  \\\n",
       "0                         0              0                        0   \n",
       "1                         0              0                        0   \n",
       "2                         0              0                        0   \n",
       "3                         0              0                        0   \n",
       "\n",
       "   Załogi jednostek sportowo-żeglarskich  Załogi samolotów  Załogi śmigłowców  \\\n",
       "0                                      0                 0                  0   \n",
       "1                                      0                 0                  0   \n",
       "2                                      0                 0                  0   \n",
       "3                                      0                 0                  0   \n",
       "\n",
       "   os. w INNYCH  Razem  \n",
       "0             0      9  \n",
       "1             0      8  \n",
       "2             0   1599  \n",
       "3             0     81  \n",
       "\n",
       "[4 rows x 24 columns]"
      ]
     },
     "execution_count": 4,
     "metadata": {},
     "output_type": "execute_result"
    }
   ],
   "source": [
    "ruchu_graniczny.head(4) #wyrzuca n wierszy"
   ]
  },
  {
   "cell_type": "code",
   "execution_count": 5,
   "id": "48561764-fd3b-4f90-b590-df81d80c4825",
   "metadata": {},
   "outputs": [
    {
     "data": {
      "text/plain": [
       "Index(['Placówka SG', 'Przejście', 'Rodzaj przejścia', 'Odcinek', 'Oddział SG',\n",
       "       'Data', 'Kto', 'Kierunek', 'Paszportowy', 'Pozasystemowa', 'MRG',\n",
       "       'Inny', 'Załogi pociągów osobowych', 'Załogi pociągów towarowych',\n",
       "       'Załogi statków pasażerskich', 'Załogi statków handlowych',\n",
       "       'Załogi statków rybackich', 'Załogi kutrów', 'Załogi taboru rzecznego',\n",
       "       'Załogi jednostek sportowo-żeglarskich', 'Załogi samolotów',\n",
       "       'Załogi śmigłowców', 'os. w INNYCH', 'Razem'],\n",
       "      dtype='object')"
      ]
     },
     "execution_count": 5,
     "metadata": {},
     "output_type": "execute_result"
    }
   ],
   "source": [
    "ruchu_graniczny.columns #wyrzyca kolumny "
   ]
  },
  {
   "cell_type": "code",
   "execution_count": 6,
   "id": "5566553c-08b6-48cc-80f5-285f376072db",
   "metadata": {},
   "outputs": [
    {
     "data": {
      "text/plain": [
       "(66393, 24)"
      ]
     },
     "execution_count": 6,
     "metadata": {},
     "output_type": "execute_result"
    }
   ],
   "source": [
    "ruchu_graniczny.shape #wskazuje liczbe wierszy i kolumn"
   ]
  },
  {
   "cell_type": "code",
   "execution_count": 7,
   "id": "6e036914-b85b-40c5-853c-c873b5445832",
   "metadata": {},
   "outputs": [
    {
     "data": {
      "text/plain": [
       "0        przyjazd\n",
       "1          wyjazd\n",
       "2        przyjazd\n",
       "3          wyjazd\n",
       "4        przyjazd\n",
       "           ...   \n",
       "66388      wyjazd\n",
       "66389    przyjazd\n",
       "66390      wyjazd\n",
       "66391    przyjazd\n",
       "66392      wyjazd\n",
       "Name: Kierunek, Length: 66393, dtype: object"
      ]
     },
     "execution_count": 7,
     "metadata": {},
     "output_type": "execute_result"
    }
   ],
   "source": [
    "ruchu_graniczny.Kierunek"
   ]
  },
  {
   "cell_type": "code",
   "execution_count": 8,
   "id": "6e40b18b-3059-4178-8e46-fb41771e0f9b",
   "metadata": {},
   "outputs": [
    {
     "data": {
      "text/plain": [
       "0        przyjazd\n",
       "1          wyjazd\n",
       "2        przyjazd\n",
       "3          wyjazd\n",
       "4        przyjazd\n",
       "           ...   \n",
       "66388      wyjazd\n",
       "66389    przyjazd\n",
       "66390      wyjazd\n",
       "66391    przyjazd\n",
       "66392      wyjazd\n",
       "Name: Kierunek, Length: 66393, dtype: object"
      ]
     },
     "execution_count": 8,
     "metadata": {},
     "output_type": "execute_result"
    }
   ],
   "source": [
    "ruchu_graniczny['Kierunek'] "
   ]
  },
  {
   "cell_type": "code",
   "execution_count": 9,
   "id": "7516cbe4-2acd-4044-9dfe-be953fed8cb3",
   "metadata": {},
   "outputs": [
    {
     "data": {
      "text/plain": [
       "Rodzaj przejścia\n",
       "drogowe     28727\n",
       "lotnicze    18538\n",
       "kolejowe    10985\n",
       "morskie      7977\n",
       "rzeczne       166\n",
       "Name: count, dtype: int64"
      ]
     },
     "execution_count": 9,
     "metadata": {},
     "output_type": "execute_result"
    }
   ],
   "source": [
    "ruchu_graniczny['Rodzaj przejścia'].value_counts()"
   ]
  },
  {
   "cell_type": "code",
   "execution_count": 10,
   "id": "e2222305-add9-4db3-b608-f148ece07a01",
   "metadata": {},
   "outputs": [
    {
     "data": {
      "text/plain": [
       "'2018-01-01'"
      ]
     },
     "execution_count": 10,
     "metadata": {},
     "output_type": "execute_result"
    }
   ],
   "source": [
    "ruchu_graniczny.Data.iloc[0]"
   ]
  },
  {
   "cell_type": "code",
   "execution_count": 11,
   "id": "2d2840d5-32da-41fc-87be-d8e9aca53c25",
   "metadata": {},
   "outputs": [],
   "source": [
    "from datetime import datetime # datetime <= moduł w pythonie do ogarniania dat \n",
    "dates = [] \n",
    "for date_str in ruchu_graniczny.Data:\n",
    "    dates.append( # append na liście \n",
    "        datetime.fromisoformat(date_str) # fromisostring  \n",
    "    )"
   ]
  },
  {
   "cell_type": "code",
   "execution_count": 12,
   "id": "ea29a88d-cb4d-4586-b76f-2465bf05f8ce",
   "metadata": {},
   "outputs": [],
   "source": [
    "ruchu_graniczny = ruchu_graniczny.assign(Data = dates) # assign dodaje kolumne ale nie modyfikuje oryginalnego data frameu "
   ]
  },
  {
   "cell_type": "code",
   "execution_count": 13,
   "id": "ea8ade88-7ada-406a-b2f9-bca4c5e6d0f4",
   "metadata": {},
   "outputs": [],
   "source": [
    "federacja_rosji = ruchu_graniczny[ruchu_graniczny.Odcinek == \"z Federacją Rosyjską\"] "
   ]
  },
  {
   "cell_type": "code",
   "execution_count": 14,
   "id": "d7c45efe-eab3-4b30-b4d1-6fd2e4d8b2bd",
   "metadata": {},
   "outputs": [
    {
     "data": {
      "text/plain": [
       "array(['Braniewo', 'Bezledy', 'Gołdap', 'Grzechotki', 'Barciany'],\n",
       "      dtype=object)"
      ]
     },
     "execution_count": 14,
     "metadata": {},
     "output_type": "execute_result"
    }
   ],
   "source": [
    "federacja_rosji['Placówka SG'].unique() # unikatowe wartości "
   ]
  },
  {
   "cell_type": "code",
   "execution_count": 15,
   "id": "67e803a7-66d8-4d16-b5a1-958b7b113a0b",
   "metadata": {},
   "outputs": [
    {
     "data": {
      "text/plain": [
       "0           0\n",
       "1           0\n",
       "2        1599\n",
       "3          81\n",
       "4          65\n",
       "         ... \n",
       "66246     166\n",
       "66247    1074\n",
       "66248     248\n",
       "66249     176\n",
       "66250     154\n",
       "Name: Paszportowy, Length: 7609, dtype: int64"
      ]
     },
     "execution_count": 15,
     "metadata": {},
     "output_type": "execute_result"
    }
   ],
   "source": [
    "federacja_rosji['Paszportowy']"
   ]
  },
  {
   "cell_type": "code",
   "execution_count": 16,
   "id": "3705415a-423e-477d-a0d9-e1f55b2a20d3",
   "metadata": {},
   "outputs": [],
   "source": [
    "ruch_paszportowy = federacja_rosji[federacja_rosji['Paszportowy'] > 0]"
   ]
  },
  {
   "cell_type": "code",
   "execution_count": 17,
   "id": "0ce70069-7f98-45fd-b8e8-5e9467630892",
   "metadata": {},
   "outputs": [
    {
     "data": {
      "text/plain": [
       "2         C\n",
       "3         C\n",
       "4        RP\n",
       "5        RP\n",
       "6         C\n",
       "         ..\n",
       "66246    RP\n",
       "66247     C\n",
       "66248     C\n",
       "66249    RP\n",
       "66250    RP\n",
       "Name: Kto, Length: 5853, dtype: object"
      ]
     },
     "execution_count": 17,
     "metadata": {},
     "output_type": "execute_result"
    }
   ],
   "source": [
    "ruch_paszportowy['Kto']"
   ]
  },
  {
   "cell_type": "code",
   "execution_count": 18,
   "id": "0b2c94f3-0a79-4b67-8d18-d2433bb19960",
   "metadata": {},
   "outputs": [
    {
     "data": {
      "text/plain": [
       "2        przyjazd\n",
       "3          wyjazd\n",
       "4        przyjazd\n",
       "5          wyjazd\n",
       "6        przyjazd\n",
       "           ...   \n",
       "66246      wyjazd\n",
       "66247    przyjazd\n",
       "66248      wyjazd\n",
       "66249    przyjazd\n",
       "66250      wyjazd\n",
       "Name: Kierunek, Length: 5853, dtype: object"
      ]
     },
     "execution_count": 18,
     "metadata": {},
     "output_type": "execute_result"
    }
   ],
   "source": [
    "ruch_paszportowy['Kierunek']"
   ]
  },
  {
   "cell_type": "code",
   "execution_count": 19,
   "id": "f7dfc3be-19d3-4a76-bcf9-b094461db7ac",
   "metadata": {},
   "outputs": [
    {
     "data": {
      "text/plain": [
       "2         True\n",
       "3         True\n",
       "4        False\n",
       "5        False\n",
       "6         True\n",
       "         ...  \n",
       "66246    False\n",
       "66247     True\n",
       "66248     True\n",
       "66249    False\n",
       "66250    False\n",
       "Name: Kto, Length: 5853, dtype: bool"
      ]
     },
     "execution_count": 19,
     "metadata": {},
     "output_type": "execute_result"
    }
   ],
   "source": [
    "ruch_paszportowy['Kto'] == 'C'"
   ]
  },
  {
   "cell_type": "code",
   "execution_count": 20,
   "id": "41c3707e-4bea-4f49-aa44-9419f6475743",
   "metadata": {},
   "outputs": [
    {
     "data": {
      "text/plain": [
       "2         True\n",
       "3        False\n",
       "4         True\n",
       "5        False\n",
       "6         True\n",
       "         ...  \n",
       "66246    False\n",
       "66247     True\n",
       "66248    False\n",
       "66249     True\n",
       "66250    False\n",
       "Name: Kierunek, Length: 5853, dtype: bool"
      ]
     },
     "execution_count": 20,
     "metadata": {},
     "output_type": "execute_result"
    }
   ],
   "source": [
    "ruch_paszportowy['Kierunek'] == 'przyjazd'"
   ]
  },
  {
   "cell_type": "code",
   "execution_count": 21,
   "id": "edce38b7-6db9-4a03-8c78-e8f24f9cc2e9",
   "metadata": {},
   "outputs": [
    {
     "data": {
      "text/plain": [
       "2         True\n",
       "3        False\n",
       "4        False\n",
       "5        False\n",
       "6         True\n",
       "         ...  \n",
       "66246    False\n",
       "66247     True\n",
       "66248    False\n",
       "66249    False\n",
       "66250    False\n",
       "Length: 5853, dtype: bool"
      ]
     },
     "execution_count": 21,
     "metadata": {},
     "output_type": "execute_result"
    }
   ],
   "source": [
    "(ruch_paszportowy['Kto'] == 'C') & (ruch_paszportowy['Kierunek'] == 'przyjazd')"
   ]
  },
  {
   "cell_type": "code",
   "execution_count": 22,
   "id": "ed8c0af7-fe8e-4c92-b8c5-dc352f829339",
   "metadata": {},
   "outputs": [],
   "source": [
    "przyjazd_rosjan = ruch_paszportowy[(ruch_paszportowy['Kto'] == 'C') & (ruch_paszportowy['Kierunek'] == 'przyjazd')]"
   ]
  },
  {
   "cell_type": "code",
   "execution_count": 23,
   "id": "7b78b35e-31e2-4c8f-875d-5dd1bdc72da3",
   "metadata": {},
   "outputs": [],
   "source": [
    "przyjazd_rosjan_braniewo =  przyjazd_rosjan[przyjazd_rosjan['Placówka SG'] == 'Braniewo']"
   ]
  },
  {
   "cell_type": "code",
   "execution_count": 24,
   "id": "bd230e9c-37b4-44ee-ac34-8e80c0f05f60",
   "metadata": {},
   "outputs": [],
   "source": [
    "przyjazd_rosjan_braniewo = przyjazd_rosjan_braniewo.set_index('Data') # ustawia kolumne data jako index "
   ]
  },
  {
   "cell_type": "code",
   "execution_count": 25,
   "id": "d0541490-d674-46f0-9bff-d343a480c513",
   "metadata": {},
   "outputs": [
    {
     "data": {
      "text/plain": [
       "<Axes: xlabel='Data'>"
      ]
     },
     "execution_count": 25,
     "metadata": {},
     "output_type": "execute_result"
    },
    {
     "data": {
      "image/png": "[encoded data removed]",
      "text/plain": [
       "<Figure size 640x480 with 1 Axes>"
      ]
     },
     "metadata": {},
     "output_type": "display_data"
    }
   ],
   "source": [
    "przyjazd_rosjan_braniewo.Paszportowy.plot()"
   ]
  },
  {
   "cell_type": "code",
   "execution_count": 26,
   "id": "d5c6de95-2601-4a83-904a-b276543c15fb",
   "metadata": {},
   "outputs": [],
   "source": [
    "!pip install -q matplotlib  # ważne żeby działał plot() "
   ]
  },
  {
   "cell_type": "code",
   "execution_count": 27,
   "id": "25bb290f-b7dd-452e-800c-7d2e9eb33613",
   "metadata": {},
   "outputs": [
    {
     "data": {
      "text/plain": [
       "<Axes: xlabel='Data'>"
      ]
     },
     "execution_count": 27,
     "metadata": {},
     "output_type": "execute_result"
    },
    {
     "data": {
      "image/png": "[encoded data removed]",
      "text/plain": [
       "<Figure size 640x480 with 1 Axes>"
      ]
     },
     "metadata": {},
     "output_type": "display_data"
    }
   ],
   "source": [
    "przyjazd_rosjan_braniewo.Paszportowy.rolling(window=10).mean().plot() # smoothing - wygładzanie średnia z każdych sąsiednich 10 wartości "
   ]
  },
  {
   "cell_type": "code",
   "execution_count": 28,
   "id": "7518cd64-a531-4c76-a900-ae4aff615431",
   "metadata": {},
   "outputs": [
    {
     "data": {
      "text/plain": [
       "Timestamp('2018-06-29 00:00:00')"
      ]
     },
     "execution_count": 28,
     "metadata": {},
     "output_type": "execute_result"
    }
   ],
   "source": [
    "przyjazd_rosjan_braniewo[\"2018-06-01\":\"2018-07-01\"].Paszportowy.idxmax()"
   ]
  }
 ],
 "metadata": {
  "kernelspec": {
   "display_name": "Python 3 (ipykernel)",
   "language": "python",
   "name": "python3"
  },
  "language_info": {
   "codemirror_mode": {
    "name": "ipython",
    "version": 3
   },
   "file_extension": ".py",
   "mimetype": "text/x-python",
   "name": "python",
   "nbconvert_exporter": "python",
   "pygments_lexer": "ipython3",
   "version": "3.8.10"
  }
 },
 "nbformat": 4,
 "nbformat_minor": 5
}
